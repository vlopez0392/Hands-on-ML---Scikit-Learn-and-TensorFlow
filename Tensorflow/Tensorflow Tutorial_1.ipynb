{
 "cells": [
  {
   "cell_type": "markdown",
   "metadata": {},
   "source": [
    "## Tensorflow  Tutorial : Creating a Graph and Running a Session\n",
    "\n",
    "### Hands-On Machine Learning with Scikit-Learn / TensorFlow \n",
    "\n",
    "### Chapter 9: Up and Running with TensorFlow\n",
    "\n",
    "#### What is Tensorflow? \n",
    "\n",
    "Tensorflow is a powerful open source software library for numerical computation. \n",
    "\n",
    "It is well suited and fined-tuned for large-scale Machine Learning. \n",
    "\n",
    "__Tensorflow principle:__ Define a Python graph of computations to perform and then Tensorflow will take the graph and run it using optimized C++ code. \n",
    "\n",
    "Let's first import the tensorFlow library and call its version attribute as follows:"
   ]
  },
  {
   "cell_type": "code",
   "execution_count": 1,
   "metadata": {},
   "outputs": [],
   "source": [
    "import tensorflow as tf\n",
    "import numpy as np"
   ]
  },
  {
   "cell_type": "code",
   "execution_count": 2,
   "metadata": {},
   "outputs": [
    {
     "name": "stdout",
     "output_type": "stream",
     "text": [
      "1.14.0\n"
     ]
    }
   ],
   "source": [
    "print(tf.__version__)"
   ]
  },
  {
   "cell_type": "markdown",
   "metadata": {},
   "source": [
    "## Creating a first graph and running it in a session\n",
    "\n",
    "### Variables and sessions\n",
    "\n",
    "__Example:__ Let's create a graph and run a session. First, we will create some variables and perform the following operation: \n",
    "\n",
    "$x^{2}y + y + 2$ \n",
    "\n",
    "Given: $ x = 3 $,\n",
    "       $ y = 4 $ "
   ]
  },
  {
   "cell_type": "code",
   "execution_count": 5,
   "metadata": {},
   "outputs": [],
   "source": [
    "x = tf.Variable(3, name = \"x\")\n",
    "y = tf.Variable(4, name = \"y\")\n",
    "\n",
    "f= x*x*y + y + 2"
   ]
  },
  {
   "cell_type": "markdown",
   "metadata": {},
   "source": [
    "From the TensorFlow documentation we define a Variable() constructor as follows:\n",
    "\n",
    "The __*Variable()*__ constructor requires an initial value for the variable, which can be a Tensor of any type and shape. The initial value defines the type and shape of the variable. After construction, the type and shape of the variable are fixed. The value can be changed using one of the assign methods.\n",
    "\n",
    "https://www.tensorflow.org/api_docs/python/tf/Variable"
   ]
  },
  {
   "cell_type": "markdown",
   "metadata": {},
   "source": [
    "It is very important to understand that the code above does not perform any computations! In fact, the declared variables are not even initialized yet. Let's evaluate the graph by opening a TensorFlow __*session*__ and use it to initialize the variables and evaluate *f*: "
   ]
  },
  {
   "cell_type": "code",
   "execution_count": 17,
   "metadata": {},
   "outputs": [
    {
     "name": "stdout",
     "output_type": "stream",
     "text": [
      "42\n"
     ]
    }
   ],
   "source": [
    "sess = tf.Session()        ### Creates a TensorFlow session\n",
    "sess.run(x.initializer)    ### Initializes x\n",
    "sess.run(y.initializer)    ### Initializes y\n",
    "result = sess.run(f)       ### Evaluates f with the run() method.\n",
    "print(result)\n",
    "\n",
    "sess.close()               ### Closes the session and frees up resources. "
   ]
  },
  {
   "cell_type": "markdown",
   "metadata": {},
   "source": [
    "The __*Session*__ object encapsulates the environment in which _**Operation**_ objects are executed, and _**Tensor**_ objects are evaluated.\n",
    "\n",
    "https://www.tensorflow.org/api_docs/python/tf/Session\n",
    "\n",
    "A TensorFlow session takes care of placing the operations _onto_ devices such as GPU's and CPU's and running them, and it holds all the variables values. A session may own resources such as _**tf.Variables**_ and it is important to release them using the _**sess.close()**_ method on the session. \n",
    "\n",
    "### Using a context manager to manage sessions\n",
    "\n",
    "Recall that in Python, we can easily manage resources (e.g. opening and closing files) using a context manager. Now, because it is rather cumbersome to call the _**sess.run()**_ method, we can use a context manager in TensorFlow to manage our sessions as follows:"
   ]
  },
  {
   "cell_type": "code",
   "execution_count": 18,
   "metadata": {},
   "outputs": [
    {
     "name": "stdout",
     "output_type": "stream",
     "text": [
      "42\n"
     ]
    }
   ],
   "source": [
    "with tf.Session() as sess:\n",
    "    x.initializer.run()\n",
    "    y.initializer.run()\n",
    "    result = f.eval()\n",
    "    \n",
    "    print(result)"
   ]
  },
  {
   "cell_type": "markdown",
   "metadata": {},
   "source": [
    "What happens inside the _with_ block?\n",
    "\n",
    "* The session is set as the default session. \n",
    "\n",
    "\n",
    "* Calling _**x.initializer.run()**_ is equivalent to calling _**tf.get_default_session.run(x.initializer)**_ .\n",
    "\n",
    "\n",
    "* Similarly, calling _**f.eval()**_ is equivalent to calling _**tf.get_default_session.run(f)**_ .\n",
    "\n",
    "\n",
    "* Finally, the session is automatically closed at the end of the block and the resources are released. "
   ]
  },
  {
   "cell_type": "markdown",
   "metadata": {},
   "source": [
    "### The global variables initializer \n",
    "\n",
    "Instead of running every single variable, we can use the _**global_variables_initializer**_ function. Notice that the function does not initialize the variables initialized immediately but rather creates a node in the graph that will initialize all variables when it is run. \n",
    "\n",
    "Consider the following cell:"
   ]
  },
  {
   "cell_type": "code",
   "execution_count": 19,
   "metadata": {},
   "outputs": [
    {
     "name": "stdout",
     "output_type": "stream",
     "text": [
      "42\n"
     ]
    }
   ],
   "source": [
    "init = tf.global_variables_initializer() ##Creates an init node \n",
    "\n",
    "with tf.Session() as sess:\n",
    "    init.run() ##Initializes the variables\n",
    "    result= f.eval() \n",
    "    print(result)"
   ]
  },
  {
   "cell_type": "markdown",
   "metadata": {},
   "source": [
    "### Interactive Sessions\n",
    "\n",
    "When we are inside the Python Shell or Jupyter Notebook we may prefer to create a _**Interactive Session**_ . When an Interactive Session is created it automatically sets itself as the default session, so we don't need a context manager at all. \n",
    "\n",
    "However, we need to close the session with the _**sess.close()**_ method. Consider the following cell:\n"
   ]
  },
  {
   "cell_type": "code",
   "execution_count": 21,
   "metadata": {},
   "outputs": [
    {
     "name": "stdout",
     "output_type": "stream",
     "text": [
      "42\n"
     ]
    }
   ],
   "source": [
    "sess = tf.InteractiveSession()\n",
    "init.run()\n",
    "result = f.eval()\n",
    "print(result)\n",
    "sess.close()"
   ]
  },
  {
   "cell_type": "markdown",
   "metadata": {},
   "source": [
    "A TensorFlow program is typically split into two parts: \n",
    "\n",
    "1. _**Computation graph**_ : Builds a computation graph that represents an ML model and the computations required to train it. \n",
    "\n",
    "\n",
    "2. _**Running or execution phase**_ : Runs a loop and evaluates a training step repeatedly and gradually improves the training parameters. For example, one step per mini-batch."
   ]
  },
  {
   "cell_type": "code",
   "execution_count": null,
   "metadata": {},
   "outputs": [],
   "source": []
  }
 ],
 "metadata": {
  "kernelspec": {
   "display_name": "Python 3",
   "language": "python",
   "name": "python3"
  },
  "language_info": {
   "codemirror_mode": {
    "name": "ipython",
    "version": 3
   },
   "file_extension": ".py",
   "mimetype": "text/x-python",
   "name": "python",
   "nbconvert_exporter": "python",
   "pygments_lexer": "ipython3",
   "version": "3.7.3"
  }
 },
 "nbformat": 4,
 "nbformat_minor": 2
}
